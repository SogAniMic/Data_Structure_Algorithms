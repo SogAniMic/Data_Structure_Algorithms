{
 "cells": [
  {
   "cell_type": "markdown",
   "metadata": {},
   "source": [
    "# 124-Binary Tree Maximum Path Sum"
   ]
  },
  {
   "cell_type": "code",
   "execution_count": 1,
   "metadata": {},
   "outputs": [],
   "source": [
    "class Solution:\n",
    "    def maxPathSum(self, root):\n",
    "        res = [-float(\"inf\")]\n",
    "        def dfs(node):\n",
    "            if not node: return -float(\"inf\")\n",
    "            l, r = dfs(node.left), dfs(node.right)\n",
    "            mx = max(node.val, l + node.val, r + node.val)\n",
    "            res[0] = max(res[0], mx, node.val + l + r)\n",
    "            return mx\n",
    "        dfs(root)\n",
    "        return res[0]"
   ]
  },
  {
   "cell_type": "code",
   "execution_count": null,
   "metadata": {},
   "outputs": [],
   "source": []
  }
 ],
 "metadata": {
  "kernelspec": {
   "display_name": "Python 3",
   "language": "python",
   "name": "python3"
  },
  "language_info": {
   "codemirror_mode": {
    "name": "ipython",
    "version": 3
   },
   "file_extension": ".py",
   "mimetype": "text/x-python",
   "name": "python",
   "nbconvert_exporter": "python",
   "pygments_lexer": "ipython3",
   "version": "3.7.3"
  }
 },
 "nbformat": 4,
 "nbformat_minor": 2
}
