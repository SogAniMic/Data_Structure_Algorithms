{
 "cells": [
  {
   "cell_type": "markdown",
   "metadata": {},
   "source": [
    "# 127-Word Ladder"
   ]
  },
  {
   "cell_type": "code",
   "execution_count": null,
   "metadata": {},
   "outputs": [],
   "source": [
    "class Solution:\n",
    "    def ladderLength(self, beginWord, endWord, wordList):\n",
    "        words, layer = set(wordList), {beginWord: [[beginWord]]}\n",
    "        while layer:\n",
    "            newlayer = collections.defaultdict(list)\n",
    "            for w in layer:\n",
    "                if w == endWord: \n",
    "                    return len(layer[w][0])\n",
    "                else:\n",
    "                    for i in range(len(w)):\n",
    "                        for c in string.ascii_lowercase:\n",
    "                            neww = w[:i] + c + w[i + 1:]\n",
    "                            if neww in words:\n",
    "                                newlayer[neww] += [j + [neww] for j in layer[w]]\n",
    "            words -= set(newlayer.keys())\n",
    "            layer = newlayer\n",
    "        return 0"
   ]
  }
 ],
 "metadata": {
  "kernelspec": {
   "display_name": "Python 3",
   "language": "python",
   "name": "python3"
  },
  "language_info": {
   "codemirror_mode": {
    "name": "ipython",
    "version": 3
   },
   "file_extension": ".py",
   "mimetype": "text/x-python",
   "name": "python",
   "nbconvert_exporter": "python",
   "pygments_lexer": "ipython3",
   "version": "3.7.3"
  }
 },
 "nbformat": 4,
 "nbformat_minor": 2
}
