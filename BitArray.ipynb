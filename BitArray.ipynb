{
 "cells": [
  {
   "cell_type": "markdown",
   "id": "d14d1267",
   "metadata": {},
   "source": [
    "# array is a space efficient array that holds a value of 1 or 0 at each index.\n",
    "\n",
    "init(size): initialize the array with size\n",
    "set(i, val): updates index at i with val where val is either 1 or 0.\n",
    "get(i): gets the value at index i."
   ]
  },
  {
   "cell_type": "code",
   "execution_count": null,
   "id": "0d4642b1",
   "metadata": {},
   "outputs": [],
   "source": [
    "import math\n",
    "\n",
    "\n",
    "BITS_PER_INT = 32\n",
    "\n",
    "\n",
    "class BitArray(object):\n",
    "    def __init__(self, size):\n",
    "        self._list = [0] * int(math.ceil(size / float(BITS_PER_INT)))\n",
    "        self._size = size\n",
    "\n",
    "    def get(self, i):\n",
    "        if i < 0 or i >= self._size:\n",
    "            raise IndexError('Index out of bounds')\n",
    "\n",
    "        list_idx = i / BITS_PER_INT\n",
    "        int_idx = i % BITS_PER_INT\n",
    "\n",
    "        return (self._list[list_idx] >> int_idx) & 1\n",
    "\n",
    "    def set(self, i, val):\n",
    "        if i < 0 or i >= self._size:\n",
    "            raise IndexError('Index out of bounds')\n",
    "\n",
    "        list_idx = i / BITS_PER_INT\n",
    "        int_idx = i % BITS_PER_INT\n",
    "\n",
    "        self._list[list_idx] ^= (-val ^ self._list[list_idx]) & (1 << int_idx)"
   ]
  }
 ],
 "metadata": {
  "kernelspec": {
   "display_name": "Python 3 (ipykernel)",
   "language": "python",
   "name": "python3"
  },
  "language_info": {
   "codemirror_mode": {
    "name": "ipython",
    "version": 3
   },
   "file_extension": ".py",
   "mimetype": "text/x-python",
   "name": "python",
   "nbconvert_exporter": "python",
   "pygments_lexer": "ipython3",
   "version": "3.9.13"
  }
 },
 "nbformat": 4,
 "nbformat_minor": 5
}
