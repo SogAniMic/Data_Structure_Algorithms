{
 "cells": [
  {
   "cell_type": "markdown",
   "id": "4ad68ea8",
   "metadata": {},
   "source": [
    "# Given an integer k and a string s, find the length of the longest substring that contains at most k distinct characters.\n",
    "\n",
    "For example, given s = \"abcba\" and k = 2, the longest substring with k distinct characters is \"bcb\"."
   ]
  },
  {
   "cell_type": "code",
   "execution_count": null,
   "id": "1a4a1127",
   "metadata": {},
   "outputs": [],
   "source": [
    "def longest_substring_with_k_distinct_characters(s, k):\n",
    "    if k == 0:\n",
    "        return 0\n",
    "\n",
    "    # Keep a running window\n",
    "    bounds = (0, 0)\n",
    "    h = {}\n",
    "    max_length = 0\n",
    "    for i, char in enumerate(s):\n",
    "        h[char] = i\n",
    "        if len(h) <= k:\n",
    "            new_lower_bound = bounds[0] # lower bound remains the same\n",
    "        else:\n",
    "            # otherwise, pop last occurring char\n",
    "            key_to_pop = min(h, key=h.get)\n",
    "            new_lower_bound = h.pop(key_to_pop) + 1\n",
    "\n",
    "        bounds = (new_lower_bound, bounds[1] + 1)\n",
    "        max_length = max(max_length, bounds[1] - bounds[0])\n",
    "\n",
    "    return max_length"
   ]
  }
 ],
 "metadata": {
  "kernelspec": {
   "display_name": "Python 3 (ipykernel)",
   "language": "python",
   "name": "python3"
  },
  "language_info": {
   "codemirror_mode": {
    "name": "ipython",
    "version": 3
   },
   "file_extension": ".py",
   "mimetype": "text/x-python",
   "name": "python",
   "nbconvert_exporter": "python",
   "pygments_lexer": "ipython3",
   "version": "3.9.13"
  }
 },
 "nbformat": 4,
 "nbformat_minor": 5
}
