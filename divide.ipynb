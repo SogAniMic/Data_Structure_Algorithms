{
 "cells": [
  {
   "cell_type": "markdown",
   "id": "39ace3b1",
   "metadata": {},
   "source": [
    "# Implement division of two positive integers without using the division, multiplication, or modulus operators. Return the quotient as an integer, ignoring the remainder."
   ]
  },
  {
   "cell_type": "code",
   "execution_count": null,
   "id": "d1e17500",
   "metadata": {},
   "outputs": [],
   "source": [
    "def divide(x, y):\n",
    "    if y == 0:\n",
    "        raise ZeroDivisionError('division by zero')\n",
    "\n",
    "    quotient = 0\n",
    "    power = 32           # Assume 32-bit integer\n",
    "    yPower = y << power  # Initial y^d value is y^32\n",
    "    remainder = x        # Initial remainder is x\n",
    "    while remainder >= y:\n",
    "        while yPower > remainder:\n",
    "            yPower >>= 1\n",
    "            power -= 1\n",
    "        quotient += 1 << power\n",
    "        remainder -= yPower\n",
    "\n",
    "    return quotient"
   ]
  }
 ],
 "metadata": {
  "kernelspec": {
   "display_name": "Python 3 (ipykernel)",
   "language": "python",
   "name": "python3"
  },
  "language_info": {
   "codemirror_mode": {
    "name": "ipython",
    "version": 3
   },
   "file_extension": ".py",
   "mimetype": "text/x-python",
   "name": "python",
   "nbconvert_exporter": "python",
   "pygments_lexer": "ipython3",
   "version": "3.9.13"
  }
 },
 "nbformat": 4,
 "nbformat_minor": 5
}
