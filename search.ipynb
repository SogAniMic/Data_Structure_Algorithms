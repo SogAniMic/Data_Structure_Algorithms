{
 "cells": [
  {
   "cell_type": "markdown",
   "id": "ee8399d0",
   "metadata": {},
   "source": [
    "# Given a 2D board of characters and a word, find if the word exists in the grid.\n",
    "\n",
    "The word can be constructed from letters of sequentially adjacent cell, where \"adjacent\" cells are those horizontally or vertically neighboring. The same letter cell may not be used more than once.\n",
    "\n",
    "For example, given the following board:"
   ]
  },
  {
   "cell_type": "code",
   "execution_count": null,
   "id": "51526803",
   "metadata": {},
   "outputs": [],
   "source": [
    "def search(board, row, col, word, index, visited):\n",
    "    def is_valid(board, row, col):\n",
    "        return row >= 0 and row < len(board) and col >= 0 and col < len(board[0])\n",
    "\n",
    "    if not is_valid(board, row, col):\n",
    "        return False\n",
    "    if visited.contains((row, col)):\n",
    "        return False\n",
    "    if board[row][col] != word[index]:\n",
    "        return False\n",
    "    if index == len(word) - 1:\n",
    "        return True\n",
    "\n",
    "    visited.add((row, col))\n",
    "\n",
    "    for d in ((0, -1), (0, 1), (-1, 0), (1, 0)):\n",
    "        if search(board, row + d[0], col + d[1], word, index + 1):\n",
    "            return True\n",
    "\n",
    "    visited.remove((row, col))  # Backtrack\n",
    "\n",
    "    return False\n",
    "\n",
    "def find_word(board, word):\n",
    "    int M = len(board)\n",
    "    int N = len(board[0])\n",
    "\n",
    "    for row in range(M):\n",
    "        for col in range(N):\n",
    "            visited = set()\n",
    "            if search(board, row, col, word, 0, visited):\n",
    "                return True"
   ]
  }
 ],
 "metadata": {
  "kernelspec": {
   "display_name": "Python 3 (ipykernel)",
   "language": "python",
   "name": "python3"
  },
  "language_info": {
   "codemirror_mode": {
    "name": "ipython",
    "version": 3
   },
   "file_extension": ".py",
   "mimetype": "text/x-python",
   "name": "python",
   "nbconvert_exporter": "python",
   "pygments_lexer": "ipython3",
   "version": "3.9.13"
  }
 },
 "nbformat": 4,
 "nbformat_minor": 5
}
