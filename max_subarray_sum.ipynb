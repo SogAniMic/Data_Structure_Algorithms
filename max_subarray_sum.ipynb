{
 "cells": [
  {
   "cell_type": "markdown",
   "id": "6e47ea90",
   "metadata": {},
   "source": [
    "# Given an array of numbers, find the maximum sum of any contiguous subarray of the array.\n",
    "\n",
    "For example, given the array [34, -50, 42, 14, -5, 86], the maximum sum would be 137, since we would take elements 42, 14, -5, and 86.\n",
    "\n",
    "Given the array [-5, -1, -8, -9], the maximum sum would be 0, since we would not take any elements.\n",
    "\n",
    "Do this in O(N) time."
   ]
  },
  {
   "cell_type": "code",
   "execution_count": null,
   "id": "9c87a0f2",
   "metadata": {},
   "outputs": [],
   "source": [
    "def max_subarray_sum(arr):\n",
    "     max_ending_here = max_so_far = 0\n",
    "     for x in arr:\n",
    "         max_ending_here = max(x, max_ending_here + x)\n",
    "         max_so_far = max(max_so_far, max_ending_here)\n",
    "     return max_so_far"
   ]
  }
 ],
 "metadata": {
  "kernelspec": {
   "display_name": "Python 3 (ipykernel)",
   "language": "python",
   "name": "python3"
  },
  "language_info": {
   "codemirror_mode": {
    "name": "ipython",
    "version": 3
   },
   "file_extension": ".py",
   "mimetype": "text/x-python",
   "name": "python",
   "nbconvert_exporter": "python",
   "pygments_lexer": "ipython3",
   "version": "3.9.13"
  }
 },
 "nbformat": 4,
 "nbformat_minor": 5
}
