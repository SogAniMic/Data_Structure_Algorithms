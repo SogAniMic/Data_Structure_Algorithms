{
 "cells": [
  {
   "cell_type": "markdown",
   "metadata": {},
   "source": [
    "# 135-Candy"
   ]
  },
  {
   "cell_type": "code",
   "execution_count": null,
   "metadata": {},
   "outputs": [],
   "source": [
    "class Solution:\n",
    "    def candy(self, ratings):\n",
    "        dp = [1] * len(ratings)\n",
    "        for i in range(1, len(ratings)):\n",
    "            if ratings[i] > ratings[i - 1]:\n",
    "                dp[i] = dp[i - 1] + 1\n",
    "        for i in range(len(ratings) - 2, -1, -1):\n",
    "            if ratings[i] > ratings[i + 1] and dp[i] <= dp[i + 1]:\n",
    "                dp[i] = dp[i + 1] + 1\n",
    "        return sum(dp)"
   ]
  }
 ],
 "metadata": {
  "kernelspec": {
   "display_name": "Python 3",
   "language": "python",
   "name": "python3"
  },
  "language_info": {
   "codemirror_mode": {
    "name": "ipython",
    "version": 3
   },
   "file_extension": ".py",
   "mimetype": "text/x-python",
   "name": "python",
   "nbconvert_exporter": "python",
   "pygments_lexer": "ipython3",
   "version": "3.7.3"
  }
 },
 "nbformat": 4,
 "nbformat_minor": 2
}
