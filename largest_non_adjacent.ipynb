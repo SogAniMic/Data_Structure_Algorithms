{
 "cells": [
  {
   "cell_type": "markdown",
   "id": "41f0cae7",
   "metadata": {},
   "source": [
    "# Given a list of integers, write a function that returns the largest sum of non-adjacent numbers. Numbers can be 0 or negative.\n",
    "\n",
    "For example, [2, 4, 6, 2, 5] should return 13, since we pick 2, 6, and 5. [5, 1, 1, 5] should return 10, since we pick 5 and 5.\n",
    "\n",
    "Follow-up: Can you do this in O(N) time and constant space?"
   ]
  },
  {
   "cell_type": "code",
   "execution_count": null,
   "id": "1d48a6b8",
   "metadata": {},
   "outputs": [],
   "source": [
    "def largest_non_adjacent(arr):\n",
    "    if len(arr) <= 2:\n",
    "        return max(0, max(arr))\n",
    "\n",
    "    max_excluding_last= max(0, arr[0])\n",
    "    max_including_last = max(max_excluding_last, arr[1])\n",
    "\n",
    "    for num in arr[2:]:\n",
    "        prev_max_including_last = max_including_last\n",
    "\n",
    "        max_including_last = max(max_including_last, max_excluding_last + num)\n",
    "        max_excluding_last = prev_max_including_last\n",
    "\n",
    "    return max(max_including_last, max_excluding_last)"
   ]
  }
 ],
 "metadata": {
  "kernelspec": {
   "display_name": "Python 3 (ipykernel)",
   "language": "python",
   "name": "python3"
  },
  "language_info": {
   "codemirror_mode": {
    "name": "ipython",
    "version": 3
   },
   "file_extension": ".py",
   "mimetype": "text/x-python",
   "name": "python",
   "nbconvert_exporter": "python",
   "pygments_lexer": "ipython3",
   "version": "3.9.13"
  }
 },
 "nbformat": 4,
 "nbformat_minor": 5
}
