{
 "cells": [
  {
   "cell_type": "markdown",
   "metadata": {},
   "source": [
    "# 65-Valid Number"
   ]
  },
  {
   "cell_type": "code",
   "execution_count": null,
   "metadata": {},
   "outputs": [],
   "source": [
    "class Solution:\n",
    "    def isNumber(self, s):\n",
    "        s = s.strip()\n",
    "        pointSeen = eSeen = numberSeen = False\n",
    "        numberAfterE = True\n",
    "        for i, c in enumerate(s):\n",
    "            if \"0\" <= c <= \"9\":\n",
    "                numberSeen = numberAfterE = True\n",
    "            elif c == \".\":\n",
    "                if eSeen or pointSeen:\n",
    "                    return False\n",
    "                pointSeen = True\n",
    "            elif c == \"e\":\n",
    "                if eSeen or not numberSeen:\n",
    "                    return False\n",
    "                numberAfterE = False\n",
    "                eSeen = True\n",
    "            elif c in \"-+\":\n",
    "                if i and s[i - 1] != \"e\":\n",
    "                    return False\n",
    "            else:\n",
    "                return False\n",
    "        return numberSeen and numberAfterE"
   ]
  }
 ],
 "metadata": {
  "kernelspec": {
   "display_name": "Python 3",
   "language": "python",
   "name": "python3"
  },
  "language_info": {
   "codemirror_mode": {
    "name": "ipython",
    "version": 3
   },
   "file_extension": ".py",
   "mimetype": "text/x-python",
   "name": "python",
   "nbconvert_exporter": "python",
   "pygments_lexer": "ipython3",
   "version": "3.7.3"
  }
 },
 "nbformat": 4,
 "nbformat_minor": 2
}
