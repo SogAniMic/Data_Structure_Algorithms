{
 "cells": [
  {
   "cell_type": "markdown",
   "id": "e892de24",
   "metadata": {},
   "source": [
    "# An sorted array of integers was rotated an unknown number of times.\n",
    "\n",
    "Given such an array, find the index of the element in the array in faster than linear time. If the element doesn't exist in the array, return null.\n",
    "\n",
    "For example, given the array [13, 18, 25, 2, 8, 10] and the element 8, return 4 (the index of 8 in the array).\n",
    "\n",
    "You can assume all the integers in the array are unique."
   ]
  },
  {
   "cell_type": "code",
   "execution_count": null,
   "id": "4e35e4a7",
   "metadata": {},
   "outputs": [],
   "source": [
    "def shifted_array_search(lst, num):\n",
    "    # First, find where the breaking point is in the shifted array\n",
    "    i = len(lst) // 2\n",
    "    dist = i // 2\n",
    "    while True:\n",
    "        if lst[0] > lst[i] and lst[i - 1] > lst[i]:\n",
    "            break\n",
    "        elif dist == 0:\n",
    "            break\n",
    "        elif lst[0] <= lst[i]:\n",
    "            i = i + dist\n",
    "        elif lst[i - 1] <= lst[i]:\n",
    "            i = i - dist\n",
    "        else:\n",
    "            break\n",
    "        dist = dist // 2\n",
    "\n",
    "    # Now that we have the bottom, we can do binary search as usual,\n",
    "    # wrapping around the rotation.\n",
    "    low = i\n",
    "    high = i - 1\n",
    "    dist = len(lst) // 2\n",
    "    while True:\n",
    "        if dist == 0:\n",
    "            return None\n",
    "\n",
    "        guess_ind = (low + dist) % len(lst)\n",
    "        guess = lst[guess_ind]\n",
    "        if guess == num:\n",
    "            return guess_ind\n",
    "\n",
    "        if guess < num:\n",
    "            low = (low + dist) % len(lst)\n",
    "        if guess > num:\n",
    "            high = (len(lst) + high - dist) % len(lst)\n",
    "\n",
    "        dist = dist // 2"
   ]
  }
 ],
 "metadata": {
  "kernelspec": {
   "display_name": "Python 3 (ipykernel)",
   "language": "python",
   "name": "python3"
  },
  "language_info": {
   "codemirror_mode": {
    "name": "ipython",
    "version": 3
   },
   "file_extension": ".py",
   "mimetype": "text/x-python",
   "name": "python",
   "nbconvert_exporter": "python",
   "pygments_lexer": "ipython3",
   "version": "3.9.13"
  }
 },
 "nbformat": 4,
 "nbformat_minor": 5
}
