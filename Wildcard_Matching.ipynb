{
 "cells": [
  {
   "cell_type": "markdown",
   "metadata": {},
   "source": [
    "# 44-Wildcard Matching"
   ]
  },
  {
   "cell_type": "code",
   "execution_count": null,
   "metadata": {},
   "outputs": [],
   "source": [
    "lass Solution:\n",
    "    def isMatch(self, s: str, p: str) -> bool:\n",
    "        sp = pp = match = 0\n",
    "        star = -1\n",
    "        while sp < len(s):\n",
    "            if (pp < len(p) and (s[sp] == p[pp] or p[pp] == '?')):\n",
    "                sp +=1\n",
    "                pp +=1\n",
    "            elif pp < len(p) and p[pp] == '*':\n",
    "                star = pp\n",
    "                match = sp\n",
    "                pp +=1\n",
    "            elif star != -1:\n",
    "                pp = star + 1\n",
    "                match +=1\n",
    "                sp = match\n",
    "            else:\n",
    "                return False\n",
    "        while(pp < len(p) and p[pp] == '*'):\n",
    "            pp += 1\n",
    "        return pp == len(p)"
   ]
  },
  {
   "cell_type": "code",
   "execution_count": null,
   "metadata": {},
   "outputs": [],
   "source": []
  }
 ],
 "metadata": {
  "kernelspec": {
   "display_name": "Python 3",
   "language": "python",
   "name": "python3"
  },
  "language_info": {
   "codemirror_mode": {
    "name": "ipython",
    "version": 3
   },
   "file_extension": ".py",
   "mimetype": "text/x-python",
   "name": "python",
   "nbconvert_exporter": "python",
   "pygments_lexer": "ipython3",
   "version": "3.7.3"
  }
 },
 "nbformat": 4,
 "nbformat_minor": 2
}
