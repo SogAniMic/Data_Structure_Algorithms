{
 "cells": [
  {
   "cell_type": "markdown",
   "metadata": {},
   "source": [
    "# 32-Longest Valid Parentheses"
   ]
  },
  {
   "cell_type": "code",
   "execution_count": 1,
   "metadata": {},
   "outputs": [],
   "source": [
    "class Solution:\n",
    "    def longestValidParentheses(self, s):\n",
    "        stack, mx = [], 0\n",
    "        for i, c in enumerate(s):\n",
    "            if c == \")\" and stack and s[stack[-1]] == \"(\": stack.pop()\n",
    "            else: stack.append(i)\n",
    "        stack = [-1] + stack + [len(s)]\n",
    "        for i1, i2 in zip(stack, stack[1:]): mx = max(mx, i2 - i1 - 1)\n",
    "        return mx if len(stack) > 2 else len(s)"
   ]
  },
  {
   "cell_type": "code",
   "execution_count": null,
   "metadata": {},
   "outputs": [],
   "source": []
  }
 ],
 "metadata": {
  "kernelspec": {
   "display_name": "Python 3",
   "language": "python",
   "name": "python3"
  },
  "language_info": {
   "codemirror_mode": {
    "name": "ipython",
    "version": 3
   },
   "file_extension": ".py",
   "mimetype": "text/x-python",
   "name": "python",
   "nbconvert_exporter": "python",
   "pygments_lexer": "ipython3",
   "version": "3.7.3"
  }
 },
 "nbformat": 4,
 "nbformat_minor": 2
}
