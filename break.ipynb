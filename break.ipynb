{
 "cells": [
  {
   "cell_type": "markdown",
   "id": "c9c1f458",
   "metadata": {},
   "source": [
    "# Given a string s and an integer k, break up the string into multiple lines such that each line has a length of k or less. You must break it up so that words don't break across lines. Each line has to have the maximum possible amount of words. If there's no way to break the text up, then return null.\n",
    "\n",
    "You can assume that there are no spaces at the ends of the string and that there is exactly one space between each word.\n",
    "\n",
    "For example, given the string \"the quick brown fox jumps over the lazy dog\" and k = 10, you should return: [\"the quick\", \"brown fox\", \"jumps over\", \"the lazy\", \"dog\"]. No string in the list has a length of more than 10."
   ]
  },
  {
   "cell_type": "code",
   "execution_count": null,
   "id": "8eedd112",
   "metadata": {},
   "outputs": [],
   "source": [
    "def break(s, k):\n",
    "    words = s.split()\n",
    "\n",
    "    if not words:\n",
    "        return []\n",
    "\n",
    "    current = []\n",
    "    all = []\n",
    "\n",
    "    for i, word in enumerate(words):\n",
    "        if length(current + [word]) <= k:\n",
    "            current.append(word)\n",
    "        elif length([word]) > k:\n",
    "            return None\n",
    "        else:\n",
    "            all.append(current)\n",
    "            current = [word]\n",
    "    all.append(current)\n",
    "\n",
    "    return all\n",
    "\n",
    "def length(words):\n",
    "    if not words:\n",
    "        return 0\n",
    "    return sum(len(word) for word in words) + (len(words) - 1)"
   ]
  }
 ],
 "metadata": {
  "kernelspec": {
   "display_name": "Python 3 (ipykernel)",
   "language": "python",
   "name": "python3"
  },
  "language_info": {
   "codemirror_mode": {
    "name": "ipython",
    "version": 3
   },
   "file_extension": ".py",
   "mimetype": "text/x-python",
   "name": "python",
   "nbconvert_exporter": "python",
   "pygments_lexer": "ipython3",
   "version": "3.9.13"
  }
 },
 "nbformat": 4,
 "nbformat_minor": 5
}
