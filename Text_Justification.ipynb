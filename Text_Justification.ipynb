{
 "cells": [
  {
   "cell_type": "markdown",
   "metadata": {},
   "source": [
    "# 68-Text Justification"
   ]
  },
  {
   "cell_type": "code",
   "execution_count": null,
   "metadata": {},
   "outputs": [],
   "source": [
    "class Solution:\n",
    "    def fullJustify(self, words: List[str], maxWidth: int) -> List[str]:\n",
    "        res, used, s = [], 0, []\n",
    "        for i, w in enumerate(words):\n",
    "            if not s or len(w) + used + len(s) <= maxWidth:\n",
    "                used += len(w)\n",
    "                s += [w]\n",
    "            else:\n",
    "                if len(s) == 1:\n",
    "                    res.append(s[0] + (maxWidth - used) * ' ')\n",
    "                else:\n",
    "                    br = (maxWidth - used) // (len(s) - 1)\n",
    "                    res.append(''.join((br + (i <= (maxWidth - used) % (len(s) - 1))) * ' ' + c for i, c in enumerate(s)).lstrip())\n",
    "                used, s = len(w), [w]\n",
    "        return res + [' '.join(c for c in s) + (maxWidth - used - len(s) + 1) * ' ']"
   ]
  }
 ],
 "metadata": {
  "kernelspec": {
   "display_name": "Python 3",
   "language": "python",
   "name": "python3"
  },
  "language_info": {
   "codemirror_mode": {
    "name": "ipython",
    "version": 3
   },
   "file_extension": ".py",
   "mimetype": "text/x-python",
   "name": "python",
   "nbconvert_exporter": "python",
   "pygments_lexer": "ipython3",
   "version": "3.7.3"
  }
 },
 "nbformat": 4,
 "nbformat_minor": 2
}
