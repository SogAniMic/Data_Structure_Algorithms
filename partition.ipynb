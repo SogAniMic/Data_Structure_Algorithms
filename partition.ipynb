{
 "cells": [
  {
   "cell_type": "markdown",
   "id": "368281f2",
   "metadata": {},
   "source": [
    "# The first part contains all elements in lst that are less than x\n",
    "The second part contains all elements in lst that are equal to x\n",
    "The third part contains all elements in lst that are larger than x\n",
    "Ordering within a part can be arbitrary.\n",
    "\n",
    "For example, given x = 10 and lst = [9, 12, 3, 5, 14, 10, 10], one partition may be [9, 3, 5, 10, 10, 12, 14]."
   ]
  },
  {
   "cell_type": "code",
   "execution_count": null,
   "id": "3209750a",
   "metadata": {},
   "outputs": [],
   "source": [
    "def partition(lst, x):\n",
    "    i = 0\n",
    "    j = 0\n",
    "    k = len(lst) - 1\n",
    "\n",
    "    while j < k:\n",
    "        if lst[j] == x:\n",
    "            j += 1\n",
    "        elif lst[j] < x:\n",
    "            lst[i], lst[j] = lst[j], lst[i]\n",
    "            i += 1\n",
    "            j += 1\n",
    "        else:\n",
    "            lst[j], lst[k] = lst[k], lst[j]\n",
    "            k -= 1\n",
    "\n",
    "    return lst"
   ]
  }
 ],
 "metadata": {
  "kernelspec": {
   "display_name": "Python 3 (ipykernel)",
   "language": "python",
   "name": "python3"
  },
  "language_info": {
   "codemirror_mode": {
    "name": "ipython",
    "version": 3
   },
   "file_extension": ".py",
   "mimetype": "text/x-python",
   "name": "python",
   "nbconvert_exporter": "python",
   "pygments_lexer": "ipython3",
   "version": "3.9.13"
  }
 },
 "nbformat": 4,
 "nbformat_minor": 5
}
