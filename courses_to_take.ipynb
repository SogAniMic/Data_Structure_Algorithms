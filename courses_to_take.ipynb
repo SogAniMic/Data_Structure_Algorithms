{
 "cells": [
  {
   "cell_type": "markdown",
   "id": "05c431a3",
   "metadata": {},
   "source": [
    "# We're given a hashmap associating each courseId key with a list of courseIds values, which represents that the prerequisites of courseId are courseIds. Return a sorted ordering of courses such that we can finish all courses.\n",
    "\n",
    "Return null if there is no such ordering.\n",
    "\n",
    "For example, given {'CSC300': ['CSC100', 'CSC200'], 'CSC200': ['CSC100'], 'CSC100': []}, should return ['CSC100', 'CSC200', 'CSCS300']."
   ]
  },
  {
   "cell_type": "code",
   "execution_count": null,
   "id": "1131941b",
   "metadata": {},
   "outputs": [],
   "source": [
    "def courses_to_take(course_to_prereqs):\n",
    "    # Copy list values into a set for faster removal.\n",
    "    course_to_prereqs = {c: set(p) for c, p in course_to_prereqs.items()}\n",
    "\n",
    "    todo = [c for c, p in course_to_prereqs.items() if not p]\n",
    "\n",
    "    # Used to find courses D which have C as a prerequiste\n",
    "    prereq_to_coures = {}\n",
    "    for course in course_to_prereqs:\n",
    "        for prereq in course_to_prereqs[course]:\n",
    "            if prereq not in prereq_to_coures:\n",
    "                prereq_to_coures[prereq] = []\n",
    "\n",
    "            prereq_to_coures[prereq].append(course)\n",
    "\n",
    "    result = [] # courses we need to take in order\n",
    "\n",
    "    while todo:\n",
    "        prereq = todo.pop()\n",
    "        result.append(prereq)\n",
    "\n",
    "        # Find which courses are now free to take\n",
    "\n",
    "        for c in prereq_to_coures.get(prereq, []):\n",
    "            course_to_prereqs[c].remove(prereq)\n",
    "            if not course_to_prereqs[c]:\n",
    "                todo.append(c)\n",
    "\n",
    "    # Cicrcular dependency\n",
    "    if len(result) < len(course_to_prereqs):\n",
    "        return None\n",
    "    return result"
   ]
  }
 ],
 "metadata": {
  "kernelspec": {
   "display_name": "Python 3 (ipykernel)",
   "language": "python",
   "name": "python3"
  },
  "language_info": {
   "codemirror_mode": {
    "name": "ipython",
    "version": 3
   },
   "file_extension": ".py",
   "mimetype": "text/x-python",
   "name": "python",
   "nbconvert_exporter": "python",
   "pygments_lexer": "ipython3",
   "version": "3.9.13"
  }
 },
 "nbformat": 4,
 "nbformat_minor": 5
}
