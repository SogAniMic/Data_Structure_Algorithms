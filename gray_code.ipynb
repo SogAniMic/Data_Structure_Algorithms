{
 "cells": [
  {
   "cell_type": "markdown",
   "id": "8c011ac7",
   "metadata": {},
   "source": [
    "# Gray code  is a binary code where each successive value differ in only one bit, as well as when wrapping around. Gray code is common in hardware so that we don't see temporary spurious values during transitions.\n",
    "\n",
    "Given a number of bits n, generate a possible gray code for it.\n",
    "\n",
    "For example, for n = 2, one gray code would be [00, 01, 11, 10]."
   ]
  },
  {
   "cell_type": "code",
   "execution_count": null,
   "id": "2e8b2e6b",
   "metadata": {},
   "outputs": [],
   "source": [
    "def gray_code(n):\n",
    "    if n == 0:\n",
    "        return []\n",
    "    elif n == 1:\n",
    "        return [0, 1]\n",
    "\n",
    "    prev_gray_code = gray_code(n - 1)\n",
    "\n",
    "    result = []\n",
    "    for code in prev_gray_code:\n",
    "        result.append(code)\n",
    "\n",
    "    for code in reversed(prev_gray_code):\n",
    "        result.append((1 << n - 1) + code)\n",
    "\n",
    "    return result"
   ]
  }
 ],
 "metadata": {
  "kernelspec": {
   "display_name": "Python 3 (ipykernel)",
   "language": "python",
   "name": "python3"
  },
  "language_info": {
   "codemirror_mode": {
    "name": "ipython",
    "version": 3
   },
   "file_extension": ".py",
   "mimetype": "text/x-python",
   "name": "python",
   "nbconvert_exporter": "python",
   "pygments_lexer": "ipython3",
   "version": "3.9.13"
  }
 },
 "nbformat": 4,
 "nbformat_minor": 5
}
