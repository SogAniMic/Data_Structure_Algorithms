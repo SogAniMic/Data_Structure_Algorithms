{
 "cells": [
  {
   "cell_type": "markdown",
   "metadata": {},
   "source": [
    "# 25-Reverse Nodes in k-Group"
   ]
  },
  {
   "cell_type": "code",
   "execution_count": null,
   "metadata": {},
   "outputs": [],
   "source": [
    "# class ListNode:\n",
    "#     def __init__(self, x):\n",
    "#         self.val = x\n",
    "#         self.next = None\n",
    "class Solution:\n",
    "    def reverseKGroup(self, head, k):\n",
    "        dummy = last = ListNode(0)\n",
    "        cur = head\n",
    "        while cur:\n",
    "            first, cnt = cur, 1\n",
    "            while cnt < k and cur:\n",
    "                cur, cnt = cur.next, cnt + 1\n",
    "            if cnt == k and cur:\n",
    "                cur, prev = first, None\n",
    "                for _ in range(k):\n",
    "                    prev, cur.next, cur = cur, prev, cur.next\n",
    "                last.next, last = prev, first\n",
    "            else:\n",
    "                last.next = first\n",
    "        return dummy.next   "
   ]
  }
 ],
 "metadata": {
  "kernelspec": {
   "display_name": "Python 3",
   "language": "python",
   "name": "python3"
  },
  "language_info": {
   "codemirror_mode": {
    "name": "ipython",
    "version": 3
   },
   "file_extension": ".py",
   "mimetype": "text/x-python",
   "name": "python",
   "nbconvert_exporter": "python",
   "pygments_lexer": "ipython3",
   "version": "3.7.3"
  }
 },
 "nbformat": 4,
 "nbformat_minor": 2
}
