{
 "cells": [
  {
   "cell_type": "markdown",
   "metadata": {},
   "source": [
    "# 72-Edit Distance"
   ]
  },
  {
   "cell_type": "code",
   "execution_count": null,
   "metadata": {},
   "outputs": [],
   "source": [
    "class Solution:\n",
    "    def minDistance(self, w1: str, w2: str) -> int:\n",
    "        dp = [[0] * (len(w2) + 1) for i in range(len(w1) + 1)]\n",
    "        for i in range(len(w1) + 1):\n",
    "            for j in range(len(w2) + 1):\n",
    "                if not (i and j):\n",
    "                    dp[i][j] = i or j\n",
    "                elif w1[i - 1] == w2[j - 1]:\n",
    "                    dp[i][j] += dp[i - 1][j - 1]\n",
    "                else:\n",
    "                    dp[i][j] += min(dp[i - 1][j], dp[i][j - 1], dp[i - 1][j - 1]) + 1\n",
    "        return dp[-1][-1]"
   ]
  }
 ],
 "metadata": {
  "kernelspec": {
   "display_name": "Python 3",
   "language": "python",
   "name": "python3"
  },
  "language_info": {
   "codemirror_mode": {
    "name": "ipython",
    "version": 3
   },
   "file_extension": ".py",
   "mimetype": "text/x-python",
   "name": "python",
   "nbconvert_exporter": "python",
   "pygments_lexer": "ipython3",
   "version": "3.7.3"
  }
 },
 "nbformat": 4,
 "nbformat_minor": 2
}
