{
 "cells": [
  {
   "cell_type": "markdown",
   "metadata": {},
   "source": [
    "# 85-Maximal Rectangle"
   ]
  },
  {
   "cell_type": "code",
   "execution_count": null,
   "metadata": {},
   "outputs": [],
   "source": [
    "class Solution:\n",
    "    def maximalRectangle(self, matrix):\n",
    "        res, m, n = 0, len(matrix), len(matrix and matrix[0])\n",
    "        for i in range(m):\n",
    "            for j in range(n):\n",
    "                if matrix[i][j] != \"0\":\n",
    "                    if j > 0 and matrix[i][j - 1] != \"0\":\n",
    "                        matrix[i][j] = matrix[i][j - 1] + 1\n",
    "                    else:\n",
    "                        matrix[i][j] = 1\n",
    "                    mn, sm, k = matrix[i][j], 0, i + 1\n",
    "                    while k > 0 and matrix[k - 1][j] != \"0\":\n",
    "                        if matrix[k - 1][j] < mn:\n",
    "                            sm, mn = (i - k + 2) * matrix[k - 1][j], matrix[k - 1][j]\n",
    "                        else:\n",
    "                            sm += mn\n",
    "                        if sm > res:\n",
    "                            res = sm\n",
    "                        k -= 1\n",
    "        return res"
   ]
  }
 ],
 "metadata": {
  "kernelspec": {
   "display_name": "Python 3",
   "language": "python",
   "name": "python3"
  },
  "language_info": {
   "codemirror_mode": {
    "name": "ipython",
    "version": 3
   },
   "file_extension": ".py",
   "mimetype": "text/x-python",
   "name": "python",
   "nbconvert_exporter": "python",
   "pygments_lexer": "ipython3",
   "version": "3.7.3"
  }
 },
 "nbformat": 4,
 "nbformat_minor": 2
}
