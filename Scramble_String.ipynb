{
 "cells": [
  {
   "cell_type": "markdown",
   "metadata": {},
   "source": [
    "# 87-Scramble String"
   ]
  },
  {
   "cell_type": "code",
   "execution_count": null,
   "metadata": {},
   "outputs": [],
   "source": [
    "class Solution:\n",
    "    def isScramble(self, s1, s2):\n",
    "        n, m = len(s1), len(s2)\n",
    "        if n != m or sorted(s1) != sorted(s2):\n",
    "            return False\n",
    "        if n < 4 or s1 == s2:\n",
    "            return True\n",
    "        f = self.isScramble\n",
    "        for i in range(1, n):\n",
    "            if f(s1[:i], s2[:i]) and f(s1[i:], s2[i:]) or \\u005C\n",
    "               f(s1[:i], s2[-i:]) and f(s1[i:], s2[:-i]):\n",
    "                return True\n",
    "        return False"
   ]
  }
 ],
 "metadata": {
  "kernelspec": {
   "display_name": "Python 3",
   "language": "python",
   "name": "python3"
  },
  "language_info": {
   "codemirror_mode": {
    "name": "ipython",
    "version": 3
   },
   "file_extension": ".py",
   "mimetype": "text/x-python",
   "name": "python",
   "nbconvert_exporter": "python",
   "pygments_lexer": "ipython3",
   "version": "3.7.3"
  }
 },
 "nbformat": 4,
 "nbformat_minor": 2
}
