{
 "cells": [
  {
   "cell_type": "markdown",
   "id": "518ff2ad",
   "metadata": {},
   "source": [
    "# Implement a job scheduler which takes in a function f and an integer n, and calls f after n milliseconds."
   ]
  },
  {
   "cell_type": "code",
   "execution_count": null,
   "id": "fee4df2b",
   "metadata": {},
   "outputs": [],
   "source": [
    "from time import sleep\n",
    "import threading\n",
    "\n",
    "class Scheduler:\n",
    "    def __init__(self):\n",
    "        self.fns = [] # tuple of (fn, time)\n",
    "        t = threading.Thread(target=self.poll)\n",
    "        t.start()\n",
    "\n",
    "    def poll(self):\n",
    "        while True:\n",
    "            now = time() * 1000\n",
    "            for fn, due in self.fns:\n",
    "                if now > due:\n",
    "                    fn()\n",
    "            self.fns = [(fn, due) for (fn, due) in self.fns if due > now]\n",
    "            sleep(0.01)"
   ]
  }
 ],
 "metadata": {
  "kernelspec": {
   "display_name": "Python 3 (ipykernel)",
   "language": "python",
   "name": "python3"
  },
  "language_info": {
   "codemirror_mode": {
    "name": "ipython",
    "version": 3
   },
   "file_extension": ".py",
   "mimetype": "text/x-python",
   "name": "python",
   "nbconvert_exporter": "python",
   "pygments_lexer": "ipython3",
   "version": "3.9.13"
  }
 },
 "nbformat": 4,
 "nbformat_minor": 5
}
