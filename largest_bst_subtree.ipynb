{
 "cells": [
  {
   "cell_type": "markdown",
   "id": "d8936955",
   "metadata": {},
   "source": [
    "# Given a tree, find the largest tree/subtree that is a BST.\n",
    "\n",
    "Given a tree, return the size of the largest tree/subtree that is a BST."
   ]
  },
  {
   "cell_type": "code",
   "execution_count": null,
   "id": "0575a63e",
   "metadata": {},
   "outputs": [],
   "source": [
    "def largest_bst_subtree(root):\n",
    "    max_size = 0\n",
    "    max_root = None\n",
    "    def helper(root):\n",
    "        # Returns a tuple of (size, min_key, max_key) of the subtree.\n",
    "        nonlocal max_size\n",
    "        nonlocal max_root\n",
    "        if root is None:\n",
    "            return (0, float('inf'), float('-inf'))\n",
    "        left = helper(root.left)\n",
    "        right = helper(root.right)\n",
    "        if root.key > left[2] and root.key < right[1]:\n",
    "            size = left[0] + right[0] + 1\n",
    "            if size > max_size:\n",
    "                max_size = size\n",
    "                max_root = root\n",
    "            return (size, min(root.key, left[1]), max(root.key, right[2]))\n",
    "        else:\n",
    "            return (0, float('-inf'), float('inf'))\n",
    "\n",
    "    helper(root)\n",
    "    return max_root"
   ]
  }
 ],
 "metadata": {
  "kernelspec": {
   "display_name": "Python 3 (ipykernel)",
   "language": "python",
   "name": "python3"
  },
  "language_info": {
   "codemirror_mode": {
    "name": "ipython",
    "version": 3
   },
   "file_extension": ".py",
   "mimetype": "text/x-python",
   "name": "python",
   "nbconvert_exporter": "python",
   "pygments_lexer": "ipython3",
   "version": "3.9.13"
  }
 },
 "nbformat": 4,
 "nbformat_minor": 5
}
