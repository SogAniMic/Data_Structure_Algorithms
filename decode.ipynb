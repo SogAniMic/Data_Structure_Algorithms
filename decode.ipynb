{
 "cells": [
  {
   "cell_type": "markdown",
   "id": "cd92c27d",
   "metadata": {},
   "source": [
    "# Run-length encoding is a fast and simple method of encoding strings. The basic idea is to represent repeated successive characters as a single count and character. For example, the string \"AAAABBBCCDAA\" would be encoded as \"4A3B2C1D2A\".\n",
    "\n",
    "Implement run-length encoding and decoding. You can assume the string to be encoded have no digits and consists solely of alphabetic characters. You can assume the string to be decoded is valid."
   ]
  },
  {
   "cell_type": "code",
   "execution_count": null,
   "id": "6ef85f1e",
   "metadata": {},
   "outputs": [],
   "source": [
    "def decode(s):\n",
    "    count = 0\n",
    "    result = ''\n",
    "    for char in s:\n",
    "        if char.isdigit():\n",
    "            count = count * 10 + int(char)\n",
    "        else:\n",
    "            # char is alphabetic\n",
    "            result += char * count\n",
    "            count = 0\n",
    "    return result"
   ]
  }
 ],
 "metadata": {
  "kernelspec": {
   "display_name": "Python 3 (ipykernel)",
   "language": "python",
   "name": "python3"
  },
  "language_info": {
   "codemirror_mode": {
    "name": "ipython",
    "version": 3
   },
   "file_extension": ".py",
   "mimetype": "text/x-python",
   "name": "python",
   "nbconvert_exporter": "python",
   "pygments_lexer": "ipython3",
   "version": "3.9.13"
  }
 },
 "nbformat": 4,
 "nbformat_minor": 5
}
