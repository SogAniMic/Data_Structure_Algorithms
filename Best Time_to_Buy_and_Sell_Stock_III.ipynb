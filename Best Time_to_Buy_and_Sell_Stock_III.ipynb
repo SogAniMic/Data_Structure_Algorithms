{
 "cells": [
  {
   "cell_type": "markdown",
   "metadata": {},
   "source": [
    "# 123-Best Time to Buy and Sell Stock III"
   ]
  },
  {
   "cell_type": "code",
   "execution_count": 1,
   "metadata": {},
   "outputs": [],
   "source": [
    "class Solution:\n",
    "    def maxProfit(self, prices):\n",
    "        s1 = s2 = 0\n",
    "        b1 = b2 = -float(\"inf\")\n",
    "        for p in prices:\n",
    "            if -p > b1: b1 = -p\n",
    "            if b1 + p > s1: s1 = b1 + p\n",
    "            if s1 - p > b2: b2 = s1 - p\n",
    "            if b2 + p > s2: s2 = b2 + p\n",
    "        return s2"
   ]
  },
  {
   "cell_type": "code",
   "execution_count": null,
   "metadata": {},
   "outputs": [],
   "source": []
  }
 ],
 "metadata": {
  "kernelspec": {
   "display_name": "Python 3",
   "language": "python",
   "name": "python3"
  },
  "language_info": {
   "codemirror_mode": {
    "name": "ipython",
    "version": 3
   },
   "file_extension": ".py",
   "mimetype": "text/x-python",
   "name": "python",
   "nbconvert_exporter": "python",
   "pygments_lexer": "ipython3",
   "version": "3.7.3"
  }
 },
 "nbformat": 4,
 "nbformat_minor": 2
}
