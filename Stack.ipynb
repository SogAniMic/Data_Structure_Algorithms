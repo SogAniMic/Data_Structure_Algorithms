{
 "cells": [
  {
   "cell_type": "markdown",
   "id": "f22ae43a",
   "metadata": {},
   "source": [
    "# Implement a stack API using only a heap. A stack implements the following methods:\n",
    "\n",
    "push(item), which adds an element to the stack\n",
    "pop(), which removes and returns the most recently added element (or throws an error if there is nothing on the stack)\n",
    "Recall that a heap has the following operations:\n",
    "\n",
    "push(item), which adds a new key to the heap\n",
    "pop(), which removes and returns the max value of the heap"
   ]
  },
  {
   "cell_type": "code",
   "execution_count": null,
   "id": "89a2c08a",
   "metadata": {},
   "outputs": [],
   "source": [
    "from time import time\n",
    "\n",
    "class Stack:\n",
    "    def __init__(self):\n",
    "        self.max_heap = MaxHeap()\n",
    "\n",
    "    def push(self, item):\n",
    "        t = time()\n",
    "        self.max_heap.push(item, t)\n",
    "\n",
    "    def pop(self):\n",
    "        item, _ = self.max_heap.pop()\n",
    "        return item\n",
    "\n",
    "\n",
    "import heapq\n",
    "\n",
    "class MaxHeap:\n",
    "    def __init__(self):\n",
    "        self._heap = []\n",
    "\n",
    "    def push(self, item, priority):\n",
    "        heapq.heappush(self._heap, (-priority, item))\n",
    "\n",
    "    def pop(self):\n",
    "        _, item = heapq.heappop(self._heap)\n",
    "        return item"
   ]
  }
 ],
 "metadata": {
  "kernelspec": {
   "display_name": "Python 3 (ipykernel)",
   "language": "python",
   "name": "python3"
  },
  "language_info": {
   "codemirror_mode": {
    "name": "ipython",
    "version": 3
   },
   "file_extension": ".py",
   "mimetype": "text/x-python",
   "name": "python",
   "nbconvert_exporter": "python",
   "pygments_lexer": "ipython3",
   "version": "3.9.13"
  }
 },
 "nbformat": 4,
 "nbformat_minor": 5
}
