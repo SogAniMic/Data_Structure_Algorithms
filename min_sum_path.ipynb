{
 "cells": [
  {
   "cell_type": "markdown",
   "id": "d5cd7672",
   "metadata": {},
   "source": [
    "# Given a binary tree, find a minimum path sum from root to a leaf.\n",
    "\n",
    "For example, the minimum path in this tree is [10, 5, 1, -1], which has sum 15."
   ]
  },
  {
   "cell_type": "code",
   "execution_count": null,
   "id": "6219ed7c",
   "metadata": {},
   "outputs": [],
   "source": [
    "def min_sum_path(node):\n",
    "    return list(reversed(_min_sum_path(node)))\n",
    "\n",
    "def _min_sum_path(node):\n",
    "    if node:\n",
    "        left_list = _min_sum_path(node.left)\n",
    "        right_list = _min_sum_path(node.right)\n",
    "\n",
    "        min_list = min(left_list, right_list, key=lambda lst: sum(node.val for node in lst))\n",
    "        min_list.append(node)\n",
    "\n",
    "        return min_list\n",
    "\n",
    "    return []"
   ]
  }
 ],
 "metadata": {
  "kernelspec": {
   "display_name": "Python 3 (ipykernel)",
   "language": "python",
   "name": "python3"
  },
  "language_info": {
   "codemirror_mode": {
    "name": "ipython",
    "version": 3
   },
   "file_extension": ".py",
   "mimetype": "text/x-python",
   "name": "python",
   "nbconvert_exporter": "python",
   "pygments_lexer": "ipython3",
   "version": "3.9.13"
  }
 },
 "nbformat": 4,
 "nbformat_minor": 5
}
