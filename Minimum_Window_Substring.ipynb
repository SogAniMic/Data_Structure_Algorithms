{
 "cells": [
  {
   "cell_type": "markdown",
   "metadata": {},
   "source": [
    "# 76-Minimum Window Substring"
   ]
  },
  {
   "cell_type": "code",
   "execution_count": null,
   "metadata": {},
   "outputs": [],
   "source": [
    "class Solution:\n",
    "    def minWindow(self, s, t):\n",
    "        cnt_s, cnt_t, n, left, r = {}, {}, len(s), set(t), -1\n",
    "        for c in t:\n",
    "            cnt_t[c] = cnt_t.get(c, 0) + 1\n",
    "        L = l = 0\n",
    "        while left:\n",
    "            r += 1\n",
    "            if r >= n:\n",
    "                return \"\"\n",
    "            cnt_s[s[r]] = cnt_s.get(s[r], 0) + 1\n",
    "            if s[r] in cnt_t and cnt_s[s[r]] == cnt_t[s[r]]:\n",
    "                left.discard(s[r])\n",
    "        R = r\n",
    "        cnt_s[s[r]] -= 1\n",
    "        while l < r < n:\n",
    "            cnt_s[s[r]] = cnt_s.get(s[r], 0) + 1\n",
    "            while s[l] not in cnt_t or cnt_s[s[l]] > cnt_t[s[l]]:\n",
    "                cnt_s[s[l]] -= 1\n",
    "                l += 1\n",
    "            if r - l < R - L:\n",
    "                L, R = l, r\n",
    "            r += 1   \n",
    "        return s[L: R + 1]"
   ]
  }
 ],
 "metadata": {
  "kernelspec": {
   "display_name": "Python 3",
   "language": "python",
   "name": "python3"
  },
  "language_info": {
   "codemirror_mode": {
    "name": "ipython",
    "version": 3
   },
   "file_extension": ".py",
   "mimetype": "text/x-python",
   "name": "python",
   "nbconvert_exporter": "python",
   "pygments_lexer": "ipython3",
   "version": "3.7.3"
  }
 },
 "nbformat": 4,
 "nbformat_minor": 2
}
