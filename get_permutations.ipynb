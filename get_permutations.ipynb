{
 "cells": [
  {
   "cell_type": "markdown",
   "id": "814777a8",
   "metadata": {},
   "source": []
  },
  {
   "cell_type": "markdown",
   "id": "130f25e7",
   "metadata": {},
   "source": [
    "# Given a mapping of digits to letters (as in a phone number), and a digit string, return all possible letters the number could represent. You can assume each valid number in the mapping is a single digit.\n",
    "\n",
    "For example if {“2”: [“a”, “b”, “c”], 3: [“d”, “e”, “f”], …} then “23” should return [“ad”, “ae”, “af”, “bd”, “be”, “bf”, “cd”, “ce”, “cf\"]."
   ]
  },
  {
   "cell_type": "code",
   "execution_count": null,
   "id": "419c442d",
   "metadata": {},
   "outputs": [],
   "source": [
    "def get_permutations(digits, mapping):\n",
    "    digit = digits[0]\n",
    "\n",
    "    if len(digits) == 1:\n",
    "        return mapping[digit]\n",
    "\n",
    "    result = []\n",
    "    for char in mapping[digit]:\n",
    "        for perm in get_permutations(digits[1:], mapping):\n",
    "            result.append(char + perm)\n",
    "    return result"
   ]
  }
 ],
 "metadata": {
  "kernelspec": {
   "display_name": "Python 3 (ipykernel)",
   "language": "python",
   "name": "python3"
  },
  "language_info": {
   "codemirror_mode": {
    "name": "ipython",
    "version": 3
   },
   "file_extension": ".py",
   "mimetype": "text/x-python",
   "name": "python",
   "nbconvert_exporter": "python",
   "pygments_lexer": "ipython3",
   "version": "3.9.13"
  }
 },
 "nbformat": 4,
 "nbformat_minor": 5
}
