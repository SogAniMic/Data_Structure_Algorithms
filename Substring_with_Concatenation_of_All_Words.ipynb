{
 "cells": [
  {
   "cell_type": "markdown",
   "metadata": {},
   "source": [
    "# 30-Substring with Concatenation of All Words"
   ]
  },
  {
   "cell_type": "code",
   "execution_count": null,
   "metadata": {},
   "outputs": [],
   "source": [
    "class Solution:\n",
    "    def findSubstring(self, s, words):\n",
    "        if not s or not words: return []\n",
    "        cnt, l_words, l_word, cnt_words, res = collections.Counter(words), len(words[0]) * len(words), len(words[0]), len(words), []\n",
    "        for i in range(len(s) - l_words + 1):\n",
    "            cur, j = dict(cnt), i\n",
    "            for _ in range(cnt_words):\n",
    "                w = s[j:j + l_word]\n",
    "                if w in cur:\n",
    "                    if cur[w] == 1: cur.pop(w)\n",
    "                    else: cur[w] -= 1\n",
    "                else: break\n",
    "                j += l_word\n",
    "            if not cur: res += i,\n",
    "        return res"
   ]
  }
 ],
 "metadata": {
  "kernelspec": {
   "display_name": "Python 3",
   "language": "python",
   "name": "python3"
  },
  "language_info": {
   "codemirror_mode": {
    "name": "ipython",
    "version": 3
   },
   "file_extension": ".py",
   "mimetype": "text/x-python",
   "name": "python",
   "nbconvert_exporter": "python",
   "pygments_lexer": "ipython3",
   "version": "3.7.3"
  }
 },
 "nbformat": 4,
 "nbformat_minor": 2
}
