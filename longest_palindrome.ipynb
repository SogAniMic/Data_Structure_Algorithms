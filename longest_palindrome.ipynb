{
 "cells": [
  {
   "cell_type": "markdown",
   "id": "aa4f8b3f",
   "metadata": {},
   "source": [
    "# Given a string, find the longest palindromic contiguous substring. If there are more than one with the maximum length, return any one.\n",
    "\n",
    "For example, the longest palindromic substring of \"aabcdcb\" is \"bcdcb\". The longest palindromic substring of \"bananas\" is \"anana\"."
   ]
  },
  {
   "cell_type": "code",
   "execution_count": null,
   "id": "652ce7b3",
   "metadata": {},
   "outputs": [],
   "source": [
    "def longest_palindrome(s):\n",
    "    if not s:\n",
    "        return ''\n",
    "\n",
    "    longest = s[0]\n",
    "    A = [[None for _ in range(len(s))] for _ in range(len(s))]\n",
    "\n",
    "    # Set all substrings of length 1 to be true\n",
    "    for i in range(len(s)):\n",
    "        A[i][i] = True\n",
    "\n",
    "    # Try all substrings of length 2\n",
    "    for i in range(len(s) - 1):\n",
    "        A[i][i + 1] = s[i] == s[i + 1]\n",
    "\n",
    "    i, k = 0, 3\n",
    "    while k <= len(s):\n",
    "        while i < (len(s) - k + 1) :\n",
    "            j = i + k - 1\n",
    "            A[i][j] = A[i + 1][j - 1] and s[i] == s[j]\n",
    "            # Update longest if necessary\n",
    "            if A[i][j] and len(s[i:j + 1]) > len(longest):\n",
    "                longest = s[i:j + 1]\n",
    "            i += 1\n",
    "        k += 1\n",
    "        i = 0\n",
    "    return longest"
   ]
  }
 ],
 "metadata": {
  "kernelspec": {
   "display_name": "Python 3 (ipykernel)",
   "language": "python",
   "name": "python3"
  },
  "language_info": {
   "codemirror_mode": {
    "name": "ipython",
    "version": 3
   },
   "file_extension": ".py",
   "mimetype": "text/x-python",
   "name": "python",
   "nbconvert_exporter": "python",
   "pygments_lexer": "ipython3",
   "version": "3.9.13"
  }
 },
 "nbformat": 4,
 "nbformat_minor": 5
}
