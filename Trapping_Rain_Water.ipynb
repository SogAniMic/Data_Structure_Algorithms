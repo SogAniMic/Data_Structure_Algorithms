{
 "cells": [
  {
   "cell_type": "markdown",
   "metadata": {},
   "source": [
    "# 42-Trapping Rain Water"
   ]
  },
  {
   "cell_type": "code",
   "execution_count": 1,
   "metadata": {},
   "outputs": [],
   "source": [
    "   def trap(self, height):\n",
    "        res, left, l, r = 0, {}, 0, 0\n",
    "        for i, h in enumerate(height):\n",
    "            left[i] = l\n",
    "            if h > l: \n",
    "                l = h\n",
    "        for i in range(len(height) - 1, -1, -1):\n",
    "            roof = min(left[i] , r)\n",
    "            if roof > height[i]:\n",
    "                res += roof - height[i]\n",
    "            if height[i] > r:\n",
    "                r = height[i]\n",
    "        return res"
   ]
  },
  {
   "cell_type": "code",
   "execution_count": null,
   "metadata": {},
   "outputs": [],
   "source": []
  }
 ],
 "metadata": {
  "kernelspec": {
   "display_name": "Python 3",
   "language": "python",
   "name": "python3"
  },
  "language_info": {
   "codemirror_mode": {
    "name": "ipython",
    "version": 3
   },
   "file_extension": ".py",
   "mimetype": "text/x-python",
   "name": "python",
   "nbconvert_exporter": "python",
   "pygments_lexer": "ipython3",
   "version": "3.7.3"
  }
 },
 "nbformat": 4,
 "nbformat_minor": 2
}
