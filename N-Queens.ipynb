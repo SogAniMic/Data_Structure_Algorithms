{
 "cells": [
  {
   "cell_type": "markdown",
   "metadata": {},
   "source": [
    "# 51-N-Queens"
   ]
  },
  {
   "cell_type": "code",
   "execution_count": null,
   "metadata": {},
   "outputs": [],
   "source": [
    "class Solution:\n",
    "    def totalNQueens(self, n):\n",
    "        res = [0] \n",
    "        def dfs(i, l, r, m):\n",
    "            if i == n: \n",
    "                res[0] += 1\n",
    "            else:\n",
    "                l = l[1:] + [0]\n",
    "                r = [0] + r[:-1]\n",
    "                for j in range(n):\n",
    "                    if m[j] == l[j] == r[j] == 0:\n",
    "                        l[j] = r[j] = m[j] = 1 \n",
    "                        dfs(i + 1, l, r, m)\n",
    "                        l[j] = r[j] = m[j] = 0\n",
    "        dfs(0, [0] * n, [0] * n, [0] * n)\n",
    "        return res[0]"
   ]
  }
 ],
 "metadata": {
  "kernelspec": {
   "display_name": "Python 3",
   "language": "python",
   "name": "python3"
  },
  "language_info": {
   "codemirror_mode": {
    "name": "ipython",
    "version": 3
   },
   "file_extension": ".py",
   "mimetype": "text/x-python",
   "name": "python",
   "nbconvert_exporter": "python",
   "pygments_lexer": "ipython3",
   "version": "3.7.3"
  }
 },
 "nbformat": 4,
 "nbformat_minor": 2
}
