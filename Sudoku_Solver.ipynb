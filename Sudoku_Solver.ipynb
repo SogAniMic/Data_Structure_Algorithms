{
 "cells": [
  {
   "cell_type": "markdown",
   "metadata": {},
   "source": [
    "# 37-Sudoku Solver"
   ]
  },
  {
   "cell_type": "code",
   "execution_count": null,
   "metadata": {},
   "outputs": [],
   "source": [
    "   def isValidSudoku(self, board):\n",
    "        rows, cols, triples = collections.defaultdict(set), collections.defaultdict(set), collections.defaultdict(set)\n",
    "        for i, row in enumerate(board):\n",
    "            for j, c in enumerate(row):\n",
    "                if c != \".\" and c in rows[i] or c in cols[j] or c in triples[(i //3, j // 3)]: \n",
    "                    return False\n",
    "                elif c != \".\": \n",
    "                    rows[i].add(c); cols[j].add(c); triples[(i // 3, j // 3)].add(c)\n",
    "        return True"
   ]
  }
 ],
 "metadata": {
  "kernelspec": {
   "display_name": "Python 3",
   "language": "python",
   "name": "python3"
  },
  "language_info": {
   "codemirror_mode": {
    "name": "ipython",
    "version": 3
   },
   "file_extension": ".py",
   "mimetype": "text/x-python",
   "name": "python",
   "nbconvert_exporter": "python",
   "pygments_lexer": "ipython3",
   "version": "3.7.3"
  }
 },
 "nbformat": 4,
 "nbformat_minor": 2
}
