{
 "cells": [
  {
   "cell_type": "markdown",
   "metadata": {},
   "source": [
    "# 154-Find Minimum in Rotated Sorted Array II"
   ]
  },
  {
   "cell_type": "code",
   "execution_count": 1,
   "metadata": {},
   "outputs": [],
   "source": [
    "class Solution:\n",
    "    def findMin(self, nums):\n",
    "        l, r, res = 0, len(nums) - 1, nums and nums[0]\n",
    "        while l <= r:\n",
    "            while l < r and nums[l] == nums[l + 1]: l += 1\n",
    "            while l < r and nums[r] == nums[r - 1]: r -= 1\n",
    "            mid = (l + r) // 2\n",
    "            if nums[mid] >= nums[0]: l = mid + 1\n",
    "            else: r, res = mid - 1, min(res, nums[mid])\n",
    "        return res"
   ]
  },
  {
   "cell_type": "code",
   "execution_count": null,
   "metadata": {},
   "outputs": [],
   "source": []
  }
 ],
 "metadata": {
  "kernelspec": {
   "display_name": "Python 3",
   "language": "python",
   "name": "python3"
  },
  "language_info": {
   "codemirror_mode": {
    "name": "ipython",
    "version": 3
   },
   "file_extension": ".py",
   "mimetype": "text/x-python",
   "name": "python",
   "nbconvert_exporter": "python",
   "pygments_lexer": "ipython3",
   "version": "3.7.3"
  }
 },
 "nbformat": 4,
 "nbformat_minor": 2
}
