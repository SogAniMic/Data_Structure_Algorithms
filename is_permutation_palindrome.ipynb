{
 "cells": [
  {
   "cell_type": "markdown",
   "id": "bd519867",
   "metadata": {},
   "source": [
    "# Given a string, determine whether any permutation of it is a palindrome.\n",
    "\n",
    "For example, carrace should return true, since it can be rearranged to form racecar, which is a palindrome. daily should return false, since there's no rearrangement that can form a palindrome."
   ]
  },
  {
   "cell_type": "code",
   "execution_count": null,
   "id": "5e0b26d3",
   "metadata": {},
   "outputs": [],
   "source": [
    "def is_permutation_palindrome(s):\n",
    "    # There are 128 ASCII characters\n",
    "    arr = [0 for _ in range(128)]\n",
    "\n",
    "    num_odds = 0\n",
    "    for char in s:\n",
    "        i = ord(char)\n",
    "        arr[i] += 1\n",
    "\n",
    "        if arr[i] % 2 != 0:\n",
    "            num_odds += 1\n",
    "        else:\n",
    "            num_odds -= 1\n",
    "\n",
    "    return num_odds <= 1"
   ]
  }
 ],
 "metadata": {
  "kernelspec": {
   "display_name": "Python 3 (ipykernel)",
   "language": "python",
   "name": "python3"
  },
  "language_info": {
   "codemirror_mode": {
    "name": "ipython",
    "version": 3
   },
   "file_extension": ".py",
   "mimetype": "text/x-python",
   "name": "python",
   "nbconvert_exporter": "python",
   "pygments_lexer": "ipython3",
   "version": "3.9.13"
  }
 },
 "nbformat": 4,
 "nbformat_minor": 5
}
