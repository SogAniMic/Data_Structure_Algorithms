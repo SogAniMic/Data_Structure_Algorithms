{
 "cells": [
  {
   "cell_type": "markdown",
   "metadata": {},
   "source": [
    "# 132-Palindrome Partitioning II"
   ]
  },
  {
   "cell_type": "code",
   "execution_count": null,
   "metadata": {},
   "outputs": [],
   "source": [
    "class Solution:\n",
    "    def minCut(self, s):\n",
    "        q, pal, used = [(0, 0)], collections.defaultdict(list), {(0, 0)}\n",
    "        for i in range(len(s)):\n",
    "            for j in range(i, len(s)):\n",
    "                if s[i:j + 1] == s[i:j + 1][::-1]: pal[i].append(j + 1)\n",
    "        while q:\n",
    "            cuts, i = heapq.heappop(q)\n",
    "            i *= -1\n",
    "            if i == len(s): return cuts - 1\n",
    "            for j in pal[i]:\n",
    "                if (cuts + 1, -j) not in used:\n",
    "                    used.add((cuts + 1, -j))\n",
    "                    heapq.heappush(q, (cuts + 1, -j))"
   ]
  }
 ],
 "metadata": {
  "kernelspec": {
   "display_name": "Python 3",
   "language": "python",
   "name": "python3"
  },
  "language_info": {
   "codemirror_mode": {
    "name": "ipython",
    "version": 3
   },
   "file_extension": ".py",
   "mimetype": "text/x-python",
   "name": "python",
   "nbconvert_exporter": "python",
   "pygments_lexer": "ipython3",
   "version": "3.7.3"
  }
 },
 "nbformat": 4,
 "nbformat_minor": 2
}
