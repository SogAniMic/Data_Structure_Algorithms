{
 "cells": [
  {
   "cell_type": "markdown",
   "metadata": {},
   "source": [
    "# 149-Max Points on a Line"
   ]
  },
  {
   "cell_type": "code",
   "execution_count": 1,
   "metadata": {},
   "outputs": [],
   "source": [
    "# class Point:\n",
    "#     def __init__(self, a=0, b=0):\n",
    "#         self.x = a\n",
    "#         self.y = b\n",
    "\n",
    "class Solution:\n",
    "    def maxPoints(self, points):\n",
    "        m, res, roots = {}, 0, set()\n",
    "        for i, p1 in enumerate(points):\n",
    "            if (p1.x, p1.y) not in roots:\n",
    "                roots.add((p1.x, p1.y))\n",
    "                m.clear()\n",
    "                dup = path = 0\n",
    "                for j, p2 in enumerate(points):\n",
    "                    if i != j:\n",
    "                        try:\n",
    "                            cur = (p1.y - p2.y) * 100 / (p1.x - p2.x)\n",
    "                        except:\n",
    "                            if p1.y == p2.y:\n",
    "                                dup += 1\n",
    "                                continue\n",
    "                            else:\n",
    "                                cur = \"ver\"\n",
    "                        m[cur] = m.get(cur, 0) + 1\n",
    "                        if m[cur] > path:\n",
    "                            path = m[cur]\n",
    "                if path + dup + 1 > res:\n",
    "                    res = path + dup + 1\n",
    "        return res"
   ]
  },
  {
   "cell_type": "code",
   "execution_count": null,
   "metadata": {},
   "outputs": [],
   "source": []
  }
 ],
 "metadata": {
  "kernelspec": {
   "display_name": "Python 3",
   "language": "python",
   "name": "python3"
  },
  "language_info": {
   "codemirror_mode": {
    "name": "ipython",
    "version": 3
   },
   "file_extension": ".py",
   "mimetype": "text/x-python",
   "name": "python",
   "nbconvert_exporter": "python",
   "pygments_lexer": "ipython3",
   "version": "3.7.3"
  }
 },
 "nbformat": 4,
 "nbformat_minor": 2
}
