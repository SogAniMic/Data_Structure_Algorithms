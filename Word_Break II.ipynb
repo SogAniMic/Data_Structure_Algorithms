{
 "cells": [
  {
   "cell_type": "markdown",
   "metadata": {},
   "source": [
    "# 140-Word Break II"
   ]
  },
  {
   "cell_type": "code",
   "execution_count": null,
   "metadata": {},
   "outputs": [],
   "source": [
    "class Solution:\n",
    "    def wordBreak(self, s, wordDict):\n",
    "        def breakable():\n",
    "            rightmosts = [0]\n",
    "            for i in range(1, len(s) + 1):\n",
    "                for last_index in rightmosts:\n",
    "                    if s[last_index:i] in words:\n",
    "                        rightmosts.append(i)\n",
    "                        if i == len(s): \n",
    "                            return True\n",
    "                        break\n",
    "            return False\n",
    "        q, res, words = [(\"\", 0)], [], set(wordDict)\n",
    "        if breakable():\n",
    "            for j in range(1, len(s) + 1):\n",
    "                new = q[:]\n",
    "                for seq, i in q:\n",
    "                    if s[i:j] in words:\n",
    "                        if j == len(s):\n",
    "                            res.append(seq and seq + \" \" + s[i:j] or s[i:j])\n",
    "                        else:\n",
    "                            new.append((seq and seq + \" \" + s[i:j] or s[i:j], j))\n",
    "                q = new\n",
    "        return res"
   ]
  }
 ],
 "metadata": {
  "kernelspec": {
   "display_name": "Python 3",
   "language": "python",
   "name": "python3"
  },
  "language_info": {
   "codemirror_mode": {
    "name": "ipython",
    "version": 3
   },
   "file_extension": ".py",
   "mimetype": "text/x-python",
   "name": "python",
   "nbconvert_exporter": "python",
   "pygments_lexer": "ipython3",
   "version": "3.7.3"
  }
 },
 "nbformat": 4,
 "nbformat_minor": 2
}
